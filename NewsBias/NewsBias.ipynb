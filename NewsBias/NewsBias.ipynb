{
 "cells": [
  {
   "cell_type": "code",
   "execution_count": 11,
   "metadata": {},
   "outputs": [],
   "source": [
    "#!pip install --upgrade pip"
   ]
  },
  {
   "cell_type": "code",
   "execution_count": 9,
   "metadata": {},
   "outputs": [],
   "source": [
    "#!pip3 install twitter_scraper"
   ]
  },
  {
   "cell_type": "code",
   "execution_count": 10,
   "metadata": {},
   "outputs": [
    {
     "data": {
      "text/plain": [
       "['#DemDebate',\n",
       " '#DemocraticDebate',\n",
       " '#RHOA',\n",
       " 'Go to the YouTube',\n",
       " '#90DayFiance',\n",
       " '#coronapocolypse',\n",
       " 'Nene',\n",
       " 'Kenya',\n",
       " 'Porsha',\n",
       " 'Cynthia']"
      ]
     },
     "execution_count": 10,
     "metadata": {},
     "output_type": "execute_result"
    }
   ],
   "source": [
    "from twitter_scraper import get_trends\n",
    "get_trends()"
   ]
  },
  {
   "cell_type": "code",
   "execution_count": 57,
   "metadata": {},
   "outputs": [],
   "source": [
    "from twitter_scraper import get_tweets\n",
    "import pandas as pd\n",
    "import numpy as np\n",
    "from matplotlib import pyplot as plt\n",
    "from array import array\n",
    "\n",
    "dates = []\n",
    "tweets = []\n",
    "retweets = []\n",
    "user = []\n",
    "for tweet in get_tweets('WSJ', pages=100):\n",
    "    dates.append(tweet['time'])\n",
    "    tweets.append(tweet['text'])\n",
    "    retweets.append(tweet['isRetweet'])\n",
    "    user.append('Wall Street Journal')\n",
    "       \n",
    "for tweet in get_tweets('nytimes', pages=100):\n",
    "    dates.append(tweet['time'])\n",
    "    tweets.append(tweet['text'])\n",
    "    retweets.append(tweet['isRetweet'])\n",
    "    user.append('New York Times')\n",
    "    "
   ]
  },
  {
   "cell_type": "code",
   "execution_count": 58,
   "metadata": {},
   "outputs": [
    {
     "data": {
      "text/html": [
       "<div>\n",
       "<style scoped>\n",
       "    .dataframe tbody tr th:only-of-type {\n",
       "        vertical-align: middle;\n",
       "    }\n",
       "\n",
       "    .dataframe tbody tr th {\n",
       "        vertical-align: top;\n",
       "    }\n",
       "\n",
       "    .dataframe thead th {\n",
       "        text-align: right;\n",
       "    }\n",
       "</style>\n",
       "<table border=\"1\" class=\"dataframe\">\n",
       "  <thead>\n",
       "    <tr style=\"text-align: right;\">\n",
       "      <th></th>\n",
       "      <th>index</th>\n",
       "      <th>date</th>\n",
       "      <th>tweet</th>\n",
       "      <th>retweet</th>\n",
       "      <th>user</th>\n",
       "    </tr>\n",
       "  </thead>\n",
       "  <tbody>\n",
       "    <tr>\n",
       "      <th>0</th>\n",
       "      <td>824</td>\n",
       "      <td>2020-03-06 09:38:00</td>\n",
       "      <td>A look at the winners and losers during anothe...</td>\n",
       "      <td>False</td>\n",
       "      <td>Wall Street Journal</td>\n",
       "    </tr>\n",
       "    <tr>\n",
       "      <th>1</th>\n",
       "      <td>823</td>\n",
       "      <td>2020-03-06 09:45:06</td>\n",
       "      <td>The Trump campaign’s libel lawsuits against th...</td>\n",
       "      <td>False</td>\n",
       "      <td>Wall Street Journal</td>\n",
       "    </tr>\n",
       "    <tr>\n",
       "      <th>2</th>\n",
       "      <td>822</td>\n",
       "      <td>2020-03-06 10:00:11</td>\n",
       "      <td>How many people are infected with coronavirus?...</td>\n",
       "      <td>False</td>\n",
       "      <td>Wall Street Journal</td>\n",
       "    </tr>\n",
       "    <tr>\n",
       "      <th>3</th>\n",
       "      <td>821</td>\n",
       "      <td>2020-03-06 10:15:03</td>\n",
       "      <td>From @WSJopinion: With Obama’s blessing, the p...</td>\n",
       "      <td>False</td>\n",
       "      <td>Wall Street Journal</td>\n",
       "    </tr>\n",
       "    <tr>\n",
       "      <th>4</th>\n",
       "      <td>820</td>\n",
       "      <td>2020-03-06 10:30:14</td>\n",
       "      <td>As Vladimir Putin orchestrates the end of his ...</td>\n",
       "      <td>False</td>\n",
       "      <td>Wall Street Journal</td>\n",
       "    </tr>\n",
       "    <tr>\n",
       "      <th>5</th>\n",
       "      <td>819</td>\n",
       "      <td>2020-03-06 10:45:04</td>\n",
       "      <td>China’s early response to the coronavirus was ...</td>\n",
       "      <td>False</td>\n",
       "      <td>Wall Street Journal</td>\n",
       "    </tr>\n",
       "    <tr>\n",
       "      <th>6</th>\n",
       "      <td>818</td>\n",
       "      <td>2020-03-06 11:00:12</td>\n",
       "      <td>Low-code or no-code tools enable people with l...</td>\n",
       "      <td>False</td>\n",
       "      <td>Wall Street Journal</td>\n",
       "    </tr>\n",
       "    <tr>\n",
       "      <th>7</th>\n",
       "      <td>817</td>\n",
       "      <td>2020-03-06 11:15:03</td>\n",
       "      <td>“I was born in this line and I will die in thi...</td>\n",
       "      <td>False</td>\n",
       "      <td>Wall Street Journal</td>\n",
       "    </tr>\n",
       "    <tr>\n",
       "      <th>8</th>\n",
       "      <td>816</td>\n",
       "      <td>2020-03-06 11:30:10</td>\n",
       "      <td>Gamers are using live-streaming, VR and other ...</td>\n",
       "      <td>False</td>\n",
       "      <td>Wall Street Journal</td>\n",
       "    </tr>\n",
       "    <tr>\n",
       "      <th>9</th>\n",
       "      <td>815</td>\n",
       "      <td>2020-03-06 11:45:05</td>\n",
       "      <td>In late January, employees at a German auto su...</td>\n",
       "      <td>False</td>\n",
       "      <td>Wall Street Journal</td>\n",
       "    </tr>\n",
       "  </tbody>\n",
       "</table>\n",
       "</div>"
      ],
      "text/plain": [
       "   index                date  \\\n",
       "0    824 2020-03-06 09:38:00   \n",
       "1    823 2020-03-06 09:45:06   \n",
       "2    822 2020-03-06 10:00:11   \n",
       "3    821 2020-03-06 10:15:03   \n",
       "4    820 2020-03-06 10:30:14   \n",
       "5    819 2020-03-06 10:45:04   \n",
       "6    818 2020-03-06 11:00:12   \n",
       "7    817 2020-03-06 11:15:03   \n",
       "8    816 2020-03-06 11:30:10   \n",
       "9    815 2020-03-06 11:45:05   \n",
       "\n",
       "                                               tweet  retweet  \\\n",
       "0  A look at the winners and losers during anothe...    False   \n",
       "1  The Trump campaign’s libel lawsuits against th...    False   \n",
       "2  How many people are infected with coronavirus?...    False   \n",
       "3  From @WSJopinion: With Obama’s blessing, the p...    False   \n",
       "4  As Vladimir Putin orchestrates the end of his ...    False   \n",
       "5  China’s early response to the coronavirus was ...    False   \n",
       "6  Low-code or no-code tools enable people with l...    False   \n",
       "7  “I was born in this line and I will die in thi...    False   \n",
       "8  Gamers are using live-streaming, VR and other ...    False   \n",
       "9  In late January, employees at a German auto su...    False   \n",
       "\n",
       "                  user  \n",
       "0  Wall Street Journal  \n",
       "1  Wall Street Journal  \n",
       "2  Wall Street Journal  \n",
       "3  Wall Street Journal  \n",
       "4  Wall Street Journal  \n",
       "5  Wall Street Journal  \n",
       "6  Wall Street Journal  \n",
       "7  Wall Street Journal  \n",
       "8  Wall Street Journal  \n",
       "9  Wall Street Journal  "
      ]
     },
     "execution_count": 58,
     "metadata": {},
     "output_type": "execute_result"
    }
   ],
   "source": [
    "df = pd.DataFrame({'date': dates, 'tweet': tweets, 'retweet': retweets, 'user': user}).sort_values('date', ascending=True).reset_index()\n",
    "df.head(10)"
   ]
  },
  {
   "cell_type": "code",
   "execution_count": 74,
   "metadata": {
    "scrolled": true
   },
   "outputs": [
    {
     "data": {
      "text/html": [
       "<div>\n",
       "<style scoped>\n",
       "    .dataframe tbody tr th:only-of-type {\n",
       "        vertical-align: middle;\n",
       "    }\n",
       "\n",
       "    .dataframe tbody tr th {\n",
       "        vertical-align: top;\n",
       "    }\n",
       "\n",
       "    .dataframe thead th {\n",
       "        text-align: right;\n",
       "    }\n",
       "</style>\n",
       "<table border=\"1\" class=\"dataframe\">\n",
       "  <thead>\n",
       "    <tr style=\"text-align: right;\">\n",
       "      <th></th>\n",
       "      <th>index</th>\n",
       "      <th>date</th>\n",
       "      <th>tweet</th>\n",
       "      <th>retweet</th>\n",
       "      <th>user</th>\n",
       "    </tr>\n",
       "  </thead>\n",
       "  <tbody>\n",
       "    <tr>\n",
       "      <th>49</th>\n",
       "      <td>775</td>\n",
       "      <td>2020-03-06 20:20:02</td>\n",
       "      <td>Turnout from suburban voters, eager for a mode...</td>\n",
       "      <td>False</td>\n",
       "      <td>Wall Street Journal</td>\n",
       "    </tr>\n",
       "    <tr>\n",
       "      <th>156</th>\n",
       "      <td>668</td>\n",
       "      <td>2020-03-08 09:27:02</td>\n",
       "      <td>From @WSJopinion: Bernie Sanders represents an...</td>\n",
       "      <td>False</td>\n",
       "      <td>Wall Street Journal</td>\n",
       "    </tr>\n",
       "    <tr>\n",
       "      <th>241</th>\n",
       "      <td>1589</td>\n",
       "      <td>2020-03-09 08:20:02</td>\n",
       "      <td>Bernie Sanders’s critique of media coverage is...</td>\n",
       "      <td>False</td>\n",
       "      <td>New York Times</td>\n",
       "    </tr>\n",
       "    <tr>\n",
       "      <th>325</th>\n",
       "      <td>566</td>\n",
       "      <td>2020-03-09 16:30:10</td>\n",
       "      <td>From @WSJopinion: When Bernie Sanders visited ...</td>\n",
       "      <td>False</td>\n",
       "      <td>Wall Street Journal</td>\n",
       "    </tr>\n",
       "    <tr>\n",
       "      <th>442</th>\n",
       "      <td>512</td>\n",
       "      <td>2020-03-10 07:30:09</td>\n",
       "      <td>New round of primaries provides opportunity fo...</td>\n",
       "      <td>False</td>\n",
       "      <td>Wall Street Journal</td>\n",
       "    </tr>\n",
       "  </tbody>\n",
       "</table>\n",
       "</div>"
      ],
      "text/plain": [
       "     index                date  \\\n",
       "49     775 2020-03-06 20:20:02   \n",
       "156    668 2020-03-08 09:27:02   \n",
       "241   1589 2020-03-09 08:20:02   \n",
       "325    566 2020-03-09 16:30:10   \n",
       "442    512 2020-03-10 07:30:09   \n",
       "\n",
       "                                                 tweet  retweet  \\\n",
       "49   Turnout from suburban voters, eager for a mode...    False   \n",
       "156  From @WSJopinion: Bernie Sanders represents an...    False   \n",
       "241  Bernie Sanders’s critique of media coverage is...    False   \n",
       "325  From @WSJopinion: When Bernie Sanders visited ...    False   \n",
       "442  New round of primaries provides opportunity fo...    False   \n",
       "\n",
       "                    user  \n",
       "49   Wall Street Journal  \n",
       "156  Wall Street Journal  \n",
       "241       New York Times  \n",
       "325  Wall Street Journal  \n",
       "442  Wall Street Journal  "
      ]
     },
     "execution_count": 74,
     "metadata": {},
     "output_type": "execute_result"
    }
   ],
   "source": [
    "Bernie = df[df['tweet'].str.contains('Bernie')]\n",
    "Bernie.head()"
   ]
  },
  {
   "cell_type": "code",
   "execution_count": 77,
   "metadata": {},
   "outputs": [],
   "source": [
    "BernWSJ = Bernie[Bernie['user']== 'Wall Street Journal']\n",
    "BernNYT = Bernie[Bernie['user']== 'New York Times']"
   ]
  },
  {
   "cell_type": "code",
   "execution_count": 85,
   "metadata": {},
   "outputs": [
    {
     "data": {
      "image/png": "[encoded data removed]",
      "text/plain": [
       "<Figure size 432x288 with 1 Axes>"
      ]
     },
     "metadata": {
      "needs_background": "light"
     },
     "output_type": "display_data"
    }
   ],
   "source": [
    "import matplotlib.pyplot as plt\n",
    "%matplotlib inline\n",
    "\n",
    "#objects = ('Python', 'C++', 'Java', 'Perl', 'Scala', 'Lisp')\n",
    "#y_pos = np.arange(len(objects))\n",
    "#performance = [10,8,6,4,2,1]\n",
    "#\n",
    "#plt.bar(y_pos, performance, align='center', alpha=0.5)\n",
    "#plt.xticks(y_pos, objects)\n",
    "#plt.ylabel('Usage')\n",
    "#plt.title('Programming language usage')\n",
    "#\n",
    "#plt.show()\n",
    "\n",
    "objects = ('Wall Street Journal', 'New York Times')\n",
    "pos = np.arange(len(objects))\n",
    "frequency = [len(BernWSJ.index), len(BernNYT.index)]\n",
    "\n",
    "plt.bar(pos, frequency)\n",
    "plt.xticks(pos, objects)\n",
    "plt.ylabel('Number of Tweets')\n",
    "plt.title('Frequency of Tweets about Bernie: NYT vs WSJ')\n",
    "plt.show()"
   ]
  },
  {
   "cell_type": "code",
   "execution_count": 106,
   "metadata": {},
   "outputs": [
    {
     "data": {
      "text/plain": [
       "Text(0.5, 1.0, 'Emotional Score of Tweets About Bernie')"
      ]
     },
     "execution_count": 106,
     "metadata": {},
     "output_type": "execute_result"
    },
    {
     "data": {
      "image/png": "[encoded data removed]",
      "text/plain": [
       "<Figure size 432x288 with 1 Axes>"
      ]
     },
     "metadata": {
      "needs_background": "light"
     },
     "output_type": "display_data"
    }
   ],
   "source": [
    "import matplotlib.pyplot as plt\n",
    "%matplotlib inline\n",
    "\n",
    "\n",
    "plt.plot(BernWSJ['date'], compound1, color = 'coral', label=\"Wall Street Journal\")\n",
    "plt.plot(BernNYT['date'], compound2, color = 'purple', label = 'New York Times')\n",
    "plt.legend()\n",
    "plt.xlabel('Date')\n",
    "plt.ylabel('Compound Score')\n",
    "plt.title('Emotional Score of Tweets About Bernie')"
   ]
  },
  {
   "cell_type": "code",
   "execution_count": 66,
   "metadata": {
    "scrolled": true
   },
   "outputs": [
    {
     "data": {
      "text/plain": [
       "60"
      ]
     },
     "execution_count": 66,
     "metadata": {},
     "output_type": "execute_result"
    }
   ],
   "source": [
    "len(Bernie.index)"
   ]
  },
  {
   "cell_type": "code",
   "execution_count": 70,
   "metadata": {},
   "outputs": [
    {
     "data": {
      "text/plain": [
       "60"
      ]
     },
     "execution_count": 70,
     "metadata": {},
     "output_type": "execute_result"
    }
   ],
   "source": [
    "len(Bernie['tweet'])"
   ]
  },
  {
   "cell_type": "code",
   "execution_count": 71,
   "metadata": {},
   "outputs": [
    {
     "data": {
      "text/plain": [
       "60"
      ]
     },
     "execution_count": 71,
     "metadata": {},
     "output_type": "execute_result"
    }
   ],
   "source": [
    "len(compound)"
   ]
  },
  {
   "cell_type": "code",
   "execution_count": 68,
   "metadata": {},
   "outputs": [],
   "source": [
    "#!pip install vaderSentiment"
   ]
  },
  {
   "cell_type": "code",
   "execution_count": 79,
   "metadata": {},
   "outputs": [],
   "source": [
    "from vaderSentiment.vaderSentiment import SentimentIntensityAnalyzer\n",
    "\n",
    "sentences1 = BernWSJ['tweet'].tolist()\n",
    "\n",
    "compound1 = []\n",
    "\n",
    "analyzer = SentimentIntensityAnalyzer()\n",
    "for sentence in sentences1:\n",
    "    vs = analyzer.polarity_scores(sentence)\n",
    "    compound1.append(vs['compound'])\n",
    "\n",
    "    \n",
    "sentences2 = BernNYT['tweet'].tolist()\n",
    "\n",
    "compound2 = []\n",
    "\n",
    "analyzer = SentimentIntensityAnalyzer()\n",
    "for sentence in sentences2:\n",
    "    vs = analyzer.polarity_scores(sentence)\n",
    "    compound2.append(vs['compound'])\n"
   ]
  },
  {
   "cell_type": "code",
   "execution_count": null,
   "metadata": {},
   "outputs": [],
   "source": []
  }
 ],
 "metadata": {
  "kernelspec": {
   "display_name": "Python 3",
   "language": "python",
   "name": "python3"
  },
  "language_info": {
   "codemirror_mode": {
    "name": "ipython",
    "version": 3
   },
   "file_extension": ".py",
   "mimetype": "text/x-python",
   "name": "python",
   "nbconvert_exporter": "python",
   "pygments_lexer": "ipython3",
   "version": "3.7.3"
  }
 },
 "nbformat": 4,
 "nbformat_minor": 2
}
